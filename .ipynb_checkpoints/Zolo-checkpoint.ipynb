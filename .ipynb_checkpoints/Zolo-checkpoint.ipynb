{
 "cells": [
  {
   "cell_type": "code",
   "execution_count": 9,
   "metadata": {},
   "outputs": [],
   "source": [
    "import requests\n",
    "from bs4 import BeautifulSoup"
   ]
  },
  {
   "cell_type": "code",
   "execution_count": 18,
   "metadata": {},
   "outputs": [],
   "source": [
    "r = requests.get(\"https://www.zolo.ca/whitby-real-estate\", headers={'User-agent': 'Mozilla/5.0 (X11; Ubuntu; Linux x86_64; rv:61.0) Gecko/20100101 Firefox/61.0'})\n",
    "c = r.content"
   ]
  },
  {
   "cell_type": "code",
   "execution_count": 19,
   "metadata": {},
   "outputs": [],
   "source": [
    "soup = BeautifulSoup(c,\"html.parser\")"
   ]
  },
  {
   "cell_type": "code",
   "execution_count": 20,
   "metadata": {},
   "outputs": [],
   "source": [
    "articles = soup.find_all(\"article\", {\"class\":\"card-listing\"})"
   ]
  },
  {
   "cell_type": "code",
   "execution_count": 22,
   "metadata": {},
   "outputs": [
    {
     "data": {
      "text/plain": [
       "<article class=\"card-listing xs-relative xs-full-height xs-flex xs-flex-column-reverse xs-flex-justify-end rounded xs-overflow-hidden new\"><div class=\"card-listing--details xs-p2 xs-text-4 fill-white flex xs-flex-column xs-flex-shrink-0 xs-relative\"><div class=\"card-listing--location xs-text-5 truncate xs-flex-order-2\" itemscope=\"\" itemtype=\"http://schema.org/SingleFamilyResidence\"><a class=\"address link-primary\" href=\"https://www.zolo.ca/ajax-real-estate/11-winrow-gate\" itemprop=\"address\" itemscope=\"\" itemtype=\"http://schema.org/PostalAddress\"><h3 class=\"card-listing--location xs-text-5 xs-inline\"><span class=\"street\" itemprop=\"streetAddress\">11 Winrow Gate</span>, <span class=\"city\" itemprop=\"addressLocality\">Ajax</span>, <span class=\"province\" itemprop=\"addressRegion\">ON</span></h3></a><span class=\"neighbourhood\"><span class=\"xs-mx05\">•</span>Northeast Ajax</span><span itemprop=\"geo\" itemscope=\"\" itemtype=\"http://schema.org/GeoCoordinates\"><meta content=\"43.888397\" itemprop=\"latitude\"/><meta content=\"-79.027916\" itemprop=\"longitude\"/></span></div><div class=\"fill-green text-white pill xs-text-6 bold xs-inline-block xs-absolute xs-z2 pointer-events-none\" style=\"top:-2rem; padding: .125rem .75rem;\">For Sale</div><ul class=\"card-listing--values truncate list-unstyled xs-flex-order-1\"><li class=\"price xs-block xs-mb05 xs-text-2 bold\" itemprop=\"offers\" itemscope=\"\" itemtype=\"http://schema.org/Offer\"><span content=\"CAD\" itemprop=\"priceCurrency\">$</span><span itemprop=\"price\" value=\"789000\">789,000</span></li><li class=\"xs-inline xs-mr05\">3+1 bed</li><li class=\"xs-inline xs-mr05\"><span class=\"xs-mr05\">•</span>4 bath</li><li class=\"xs-inline xs-mr05\"><span class=\"xs-mr05\">•</span>1500-2000 sqft</li><li class=\"xs-hide sm-inline age\"><span class=\"xs-mr05\">•</span><span>6-15</span> Years Old</li></ul>\n",
       "<div class=\"xs-mt1 xs-flex xs-flex-align-end xs-flex-order-3\">\n",
       "<div class=\"xs-inline-block text-secondary xs-text-6 bold\"><i class=\"icon icon-townhouse text-muted xs-mr05\"></i><span class=\"xs-inline-block xs-mr1\">7 hours</span></div></div></div><div class=\"card-listing--image fill-white xs-relative xs-overflow-hidden type-townhouse\"><a class=\"xs-block xs-aspect-3-2 fill-grey-bg card-listing--image-link\" href=\"https://www.zolo.ca/ajax-real-estate/11-winrow-gate\"><img alt=\"Townhouse for sale at 11 Winrow Gt Ajax Ontario - MLS: E5114690\" class=\"card-listing--img aspect-content object-fit-cover xs-full-width xs-full-height xs-z1 js-img-defer js-modal-listing\" data-img-defer-src=\"https://photos.zolo.ca/11-winrow-gate-ajax-E5114690-1-p480.jpg?2021-02-13+05%3A01%3A02\" data-srcset=\"\n",
       "        https://photos.zolo.ca/11-winrow-gate-ajax-E5114690-1-p480.jpg?2021-02-13+05%3A01%3A02 480w,  \n",
       "        https://photos.zolo.ca/11-winrow-gate-ajax-E5114690-1-p768.jpg?2021-02-13+05%3A01%3A02 768w,  \n",
       "        https://photos.zolo.ca/11-winrow-gate-ajax-E5114690-1-p.jpg?2021-02-13+05%3A01%3A02 1200w  \" id=\"9802213\" sizes=\"\n",
       "        (min-width:75rem) calc(33.333vw - 5rem / 3),\n",
       "        (min-width:48rem) calc(50vw - 4rem / 2),\n",
       "        100w\" src=\"https://photos.zolo.ca/11-winrow-gate-ajax-E5114690-1-p480.jpg?2021-02-13+05%3A01%3A02\" srcset=\"data:image/gif;base64,R0lGODlhAQABAIAAAAAAAP///yH5BAEAAAAALAAAAAABAAEAAAIBRAA7\"/></a><div class=\"xs-absolute xs-t1 xs-r1 xs-z2 favorite-wrapper\"><button class=\"favorite circle xs-block\" data-favorite=\"A377869\"></button></div></div></article>"
      ]
     },
     "execution_count": 22,
     "metadata": {},
     "output_type": "execute_result"
    }
   ],
   "source": [
    "articles[0]"
   ]
  },
  {
   "cell_type": "code",
   "execution_count": null,
   "metadata": {},
   "outputs": [],
   "source": []
  }
 ],
 "metadata": {
  "kernelspec": {
   "display_name": "Python 3",
   "language": "python",
   "name": "python3"
  },
  "language_info": {
   "codemirror_mode": {
    "name": "ipython",
    "version": 3
   },
   "file_extension": ".py",
   "mimetype": "text/x-python",
   "name": "python",
   "nbconvert_exporter": "python",
   "pygments_lexer": "ipython3",
   "version": "3.8.3"
  }
 },
 "nbformat": 4,
 "nbformat_minor": 4
}
